{
 "cells": [
  {
   "cell_type": "markdown",
   "metadata": {},
   "source": [
    "# Uber Eats"
   ]
  },
  {
   "cell_type": "code",
   "execution_count": 1,
   "metadata": {},
   "outputs": [
    {
     "data": {
      "text/plain": [
       "'Connected: isdb@ubereats'"
      ]
     },
     "execution_count": 1,
     "metadata": {},
     "output_type": "execute_result"
    }
   ],
   "source": [
    "%load_ext sql\n",
    "%sql postgres://isdb@localhost/ubereats"
   ]
  },
  {
   "cell_type": "code",
   "execution_count": 156,
   "metadata": {},
   "outputs": [
    {
     "name": "stdout",
     "output_type": "stream",
     "text": [
      " * postgres://isdb@localhost/survey\n",
      "Done.\n",
      "Done.\n",
      "Done.\n",
      "Done.\n",
      "Done.\n",
      "Done.\n",
      "Done.\n",
      "Done.\n",
      "Done.\n",
      "Done.\n",
      "Done.\n",
      "Done.\n",
      "Done.\n",
      "Done.\n",
      "Done.\n",
      "Done.\n",
      "Done.\n",
      "Done.\n",
      "Done.\n",
      "Done.\n",
      "Done.\n",
      "Done.\n",
      "Done.\n",
      "Done.\n",
      "Done.\n",
      "Done.\n",
      "Done.\n",
      "Done.\n",
      "Done.\n",
      "Done.\n",
      "Done.\n",
      "Done.\n"
     ]
    },
    {
     "data": {
      "text/plain": [
       "[]"
      ]
     },
     "execution_count": 156,
     "metadata": {},
     "output_type": "execute_result"
    }
   ],
   "source": [
    "%%sql\n",
    "drop view if exists q1;\n",
    "create view q1 as \n",
    "SELECT uid, gender, age, q1a, q1b, q1c\n",
    "FROM SurveyAnalytics;\n",
    "\n",
    "drop view if exists q2;\n",
    "create view q2 as \n",
    "SELECT uid, gender, age, q2a, q2b\n",
    "FROM SurveyAnalytics;\n",
    "\n",
    "drop view if exists q3;\n",
    "create view q3 as \n",
    "SELECT uid, gender, age, q3a, q3b, q3c\n",
    "FROM SurveyAnalytics;\n",
    "\n",
    "drop view if exists q4;\n",
    "create view q4 as \n",
    "SELECT uid, gender, age, q4a, q4b, q4c\n",
    "FROM SurveyAnalytics;\n",
    "\n",
    "drop view if exists q5;\n",
    "create view q5 as \n",
    "SELECT uid, gender, age, q5a, q5b, q5c\n",
    "FROM SurveyAnalytics;\n",
    "\n",
    "drop view if exists q6;\n",
    "create view q6 as \n",
    "SELECT uid, gender, age, q6a, q6b, q6c\n",
    "FROM SurveyAnalytics;\n",
    "\n",
    "drop view if exists q7;\n",
    "create view q7 as \n",
    "SELECT uid, gender, age, q7a, q7b, q7c\n",
    "FROM SurveyAnalytics;\n",
    "\n",
    "drop view if exists q8;\n",
    "create view q8 as \n",
    "SELECT uid, gender, age, q8a, q8b, q8c\n",
    "FROM SurveyAnalytics;\n",
    "\n",
    "drop view if exists q1M;\n",
    "create view q1M as \n",
    "SELECT uid, gender, age, q1a, q1b, q1c\n",
    "FROM SurveyAnalytics\n",
    "WHERE gender = 'Female' and age = '18 – 30';\n",
    "\n",
    "\n",
    "drop view if exists q2M;\n",
    "create view q2M as \n",
    "SELECT uid, gender, age, q2a, q2b\n",
    "FROM SurveyAnalytics\n",
    "WHERE gender = 'Female' and age = '18 – 30';\n",
    "\n",
    "drop view if exists q3M;\n",
    "create view q3M as \n",
    "SELECT uid, gender, age, q3a, q3b, q3c\n",
    "FROM SurveyAnalytics\n",
    "WHERE gender = 'Female' and age = '18 – 30';\n",
    "\n",
    "drop view if exists q4M;\n",
    "create view q4M as \n",
    "SELECT uid, gender, age, q4a, q4b, q4c\n",
    "FROM SurveyAnalytics\n",
    "WHERE gender = 'Female' and age = '18 – 30';\n",
    "\n",
    "drop view if exists q5M;\n",
    "create view q5M as \n",
    "SELECT uid, gender, age, q5a, q5b, q5c\n",
    "FROM SurveyAnalytics\n",
    "WHERE gender = 'Female' and age = '18 – 30';\n",
    "\n",
    "drop view if exists q6M;\n",
    "create view q6M as \n",
    "SELECT uid, gender, age, q6a, q6b, q6c\n",
    "FROM SurveyAnalytics\n",
    "WHERE gender = 'Female' and age = '18 – 30';\n",
    "\n",
    "drop view if exists q7M;\n",
    "create view q7M as \n",
    "SELECT uid, gender, age, q7a, q7b, q7c\n",
    "FROM SurveyAnalytics\n",
    "WHERE gender = 'Female' and age = '18 – 30';\n",
    "\n",
    "drop view if exists q8M;\n",
    "create view q8M as \n",
    "SELECT uid, gender, age, q8a, q8b, q8c\n",
    "FROM SurveyAnalytics\n",
    "WHERE gender = 'Female' and age = '18 – 30';\n",
    "\n"
   ]
  },
  {
   "cell_type": "markdown",
   "metadata": {},
   "source": [
    "List of trackers from least acceptable by users to most acceptable\n"
   ]
  },
  {
   "cell_type": "code",
   "execution_count": 159,
   "metadata": {},
   "outputs": [
    {
     "name": "stdout",
     "output_type": "stream",
     "text": [
      " * postgres://isdb@localhost/survey\n",
      "1 rows affected.\n"
     ]
    },
    {
     "data": {
      "text/html": [
       "<table>\n",
       "    <tr>\n",
       "        <th>count</th>\n",
       "    </tr>\n",
       "    <tr>\n",
       "        <td>2</td>\n",
       "    </tr>\n",
       "</table>"
      ],
      "text/plain": [
       "[(2,)]"
      ]
     },
     "execution_count": 159,
     "metadata": {},
     "output_type": "execute_result"
    }
   ],
   "source": [
    "%%sql\n",
    "select count(*) from q1M where q1b = 'Slightly uncomfortable' or q1b = 'Very uncomfortable';\n",
    "\n"
   ]
  },
  {
   "cell_type": "code",
   "execution_count": 160,
   "metadata": {},
   "outputs": [
    {
     "name": "stdout",
     "output_type": "stream",
     "text": [
      " * postgres://isdb@localhost/survey\n",
      "1 rows affected.\n"
     ]
    },
    {
     "data": {
      "text/html": [
       "<table>\n",
       "    <tr>\n",
       "        <th>count</th>\n",
       "    </tr>\n",
       "    <tr>\n",
       "        <td>4</td>\n",
       "    </tr>\n",
       "</table>"
      ],
      "text/plain": [
       "[(4,)]"
      ]
     },
     "execution_count": 160,
     "metadata": {},
     "output_type": "execute_result"
    }
   ],
   "source": [
    "%%sql\n",
    "select count(*) from q2M where q2b = 'Slightly uncomfortable'or q2b = 'Very uncomfortable';"
   ]
  },
  {
   "cell_type": "code",
   "execution_count": 161,
   "metadata": {},
   "outputs": [
    {
     "name": "stdout",
     "output_type": "stream",
     "text": [
      " * postgres://isdb@localhost/survey\n",
      "1 rows affected.\n"
     ]
    },
    {
     "data": {
      "text/html": [
       "<table>\n",
       "    <tr>\n",
       "        <th>count</th>\n",
       "    </tr>\n",
       "    <tr>\n",
       "        <td>4</td>\n",
       "    </tr>\n",
       "</table>"
      ],
      "text/plain": [
       "[(4,)]"
      ]
     },
     "execution_count": 161,
     "metadata": {},
     "output_type": "execute_result"
    }
   ],
   "source": [
    "%%sql\n",
    "select count(*) from q3M where q3b = 'Slightly uncomfortable'or q3b = 'Very uncomfortable';"
   ]
  },
  {
   "cell_type": "code",
   "execution_count": 162,
   "metadata": {},
   "outputs": [
    {
     "name": "stdout",
     "output_type": "stream",
     "text": [
      " * postgres://isdb@localhost/survey\n",
      "1 rows affected.\n"
     ]
    },
    {
     "data": {
      "text/html": [
       "<table>\n",
       "    <tr>\n",
       "        <th>count</th>\n",
       "    </tr>\n",
       "    <tr>\n",
       "        <td>6</td>\n",
       "    </tr>\n",
       "</table>"
      ],
      "text/plain": [
       "[(6,)]"
      ]
     },
     "execution_count": 162,
     "metadata": {},
     "output_type": "execute_result"
    }
   ],
   "source": [
    "%%sql\n",
    "select count(*) from q4M where q4b = 'Slightly uncomfortable'or q4b = 'Very uncomfortable';"
   ]
  },
  {
   "cell_type": "code",
   "execution_count": 163,
   "metadata": {},
   "outputs": [
    {
     "name": "stdout",
     "output_type": "stream",
     "text": [
      " * postgres://isdb@localhost/survey\n",
      "1 rows affected.\n"
     ]
    },
    {
     "data": {
      "text/html": [
       "<table>\n",
       "    <tr>\n",
       "        <th>count</th>\n",
       "    </tr>\n",
       "    <tr>\n",
       "        <td>1</td>\n",
       "    </tr>\n",
       "</table>"
      ],
      "text/plain": [
       "[(1,)]"
      ]
     },
     "execution_count": 163,
     "metadata": {},
     "output_type": "execute_result"
    }
   ],
   "source": [
    "%%sql\n",
    "select count(*) from q5M where q5b = 'Slightly uncomfortable'or q5b = 'Very uncomfortable';"
   ]
  },
  {
   "cell_type": "code",
   "execution_count": 164,
   "metadata": {},
   "outputs": [
    {
     "name": "stdout",
     "output_type": "stream",
     "text": [
      " * postgres://isdb@localhost/survey\n",
      "1 rows affected.\n"
     ]
    },
    {
     "data": {
      "text/html": [
       "<table>\n",
       "    <tr>\n",
       "        <th>count</th>\n",
       "    </tr>\n",
       "    <tr>\n",
       "        <td>2</td>\n",
       "    </tr>\n",
       "</table>"
      ],
      "text/plain": [
       "[(2,)]"
      ]
     },
     "execution_count": 164,
     "metadata": {},
     "output_type": "execute_result"
    }
   ],
   "source": [
    "%%sql\n",
    "select count(*) from q6M where q6b = 'Slightly uncomfortable'or q6b = 'Very uncomfortable';"
   ]
  },
  {
   "cell_type": "code",
   "execution_count": 165,
   "metadata": {},
   "outputs": [
    {
     "name": "stdout",
     "output_type": "stream",
     "text": [
      " * postgres://isdb@localhost/survey\n",
      "1 rows affected.\n"
     ]
    },
    {
     "data": {
      "text/html": [
       "<table>\n",
       "    <tr>\n",
       "        <th>count</th>\n",
       "    </tr>\n",
       "    <tr>\n",
       "        <td>4</td>\n",
       "    </tr>\n",
       "</table>"
      ],
      "text/plain": [
       "[(4,)]"
      ]
     },
     "execution_count": 165,
     "metadata": {},
     "output_type": "execute_result"
    }
   ],
   "source": [
    "%%sql\n",
    "select count(*) from q7M where q7b = 'Slightly uncomfortable'or q7b = 'Very uncomfortable';"
   ]
  },
  {
   "cell_type": "code",
   "execution_count": 166,
   "metadata": {},
   "outputs": [
    {
     "name": "stdout",
     "output_type": "stream",
     "text": [
      " * postgres://isdb@localhost/survey\n",
      "1 rows affected.\n"
     ]
    },
    {
     "data": {
      "text/html": [
       "<table>\n",
       "    <tr>\n",
       "        <th>count</th>\n",
       "    </tr>\n",
       "    <tr>\n",
       "        <td>1</td>\n",
       "    </tr>\n",
       "</table>"
      ],
      "text/plain": [
       "[(1,)]"
      ]
     },
     "execution_count": 166,
     "metadata": {},
     "output_type": "execute_result"
    }
   ],
   "source": [
    "%%sql\n",
    "select count(*) from q8M where q8b = 'Slightly uncomfortable'or q8b = 'Very uncomfortable';"
   ]
  },
  {
   "cell_type": "code",
   "execution_count": 167,
   "metadata": {},
   "outputs": [
    {
     "name": "stdout",
     "output_type": "stream",
     "text": [
      " * postgres://isdb@localhost/survey\n",
      "Done.\n"
     ]
    },
    {
     "data": {
      "text/plain": [
       "[]"
      ]
     },
     "execution_count": 167,
     "metadata": {},
     "output_type": "execute_result"
    }
   ],
   "source": [
    "%%sql\n",
    "CREATE OR REPLACE FUNCTION score (t text) RETURNS integer as \n",
    "$$\n",
    "    BEGIN\n",
    "        RETURN  ((select count(*)  from q1M where (q1c ILIKE t) or q1c = 'All of the above' ) + \n",
    "        (select count(*)  from q3M where q3c ILIKE t or q3c = 'All of the above')+\n",
    "        (select count(*)  from q4M where q4c ILIKE t or q4c = 'All of the above' )+\n",
    "        (select count(*)  from q5M where q5c ILIKE t or q5c = 'All of the above' )+\n",
    "        (select count(*)  from q6M where q6c ILIKE t or q6c = 'All of the above' )+\n",
    "        (select count(*)  from q7M where q7c ILIKE t or q7c = 'All of the above' )+\n",
    "        (select count(*)  from q8M where q8c ILIKE t or q8c = 'All of the above' ))/(8.0*7) *100;\n",
    "    END;\n",
    "$$LANGUAGE plpgsql;"
   ]
  },
  {
   "cell_type": "code",
   "execution_count": 168,
   "metadata": {},
   "outputs": [
    {
     "name": "stdout",
     "output_type": "stream",
     "text": [
      " * postgres://isdb@localhost/survey\n",
      "1 rows affected.\n"
     ]
    },
    {
     "data": {
      "text/html": [
       "<table>\n",
       "    <tr>\n",
       "        <th>score</th>\n",
       "    </tr>\n",
       "    <tr>\n",
       "        <td>32</td>\n",
       "    </tr>\n",
       "</table>"
      ],
      "text/plain": [
       "[(32,)]"
      ]
     },
     "execution_count": 168,
     "metadata": {},
     "output_type": "execute_result"
    }
   ],
   "source": [
    "%%sql\n",
    "SELECT score('%E-Commerce%')\n",
    "From q3M\n",
    "limit 1;"
   ]
  },
  {
   "cell_type": "code",
   "execution_count": 169,
   "metadata": {},
   "outputs": [
    {
     "name": "stdout",
     "output_type": "stream",
     "text": [
      " * postgres://isdb@localhost/survey\n",
      "1 rows affected.\n"
     ]
    },
    {
     "data": {
      "text/html": [
       "<table>\n",
       "    <tr>\n",
       "        <th>score</th>\n",
       "    </tr>\n",
       "    <tr>\n",
       "        <td>41</td>\n",
       "    </tr>\n",
       "</table>"
      ],
      "text/plain": [
       "[(41,)]"
      ]
     },
     "execution_count": 169,
     "metadata": {},
     "output_type": "execute_result"
    }
   ],
   "source": [
    "%%sql\n",
    "SELECT score('%Banking%')\n",
    "From q1M\n",
    "limit 1;"
   ]
  },
  {
   "cell_type": "code",
   "execution_count": 170,
   "metadata": {},
   "outputs": [
    {
     "name": "stdout",
     "output_type": "stream",
     "text": [
      " * postgres://isdb@localhost/survey\n",
      "1 rows affected.\n"
     ]
    },
    {
     "data": {
      "text/html": [
       "<table>\n",
       "    <tr>\n",
       "        <th>score</th>\n",
       "    </tr>\n",
       "    <tr>\n",
       "        <td>32</td>\n",
       "    </tr>\n",
       "</table>"
      ],
      "text/plain": [
       "[(32,)]"
      ]
     },
     "execution_count": 170,
     "metadata": {},
     "output_type": "execute_result"
    }
   ],
   "source": [
    "%%sql\n",
    "SELECT score('%govern%')\n",
    "From q1M\n",
    "limit 1;"
   ]
  },
  {
   "cell_type": "code",
   "execution_count": 171,
   "metadata": {},
   "outputs": [
    {
     "name": "stdout",
     "output_type": "stream",
     "text": [
      " * postgres://isdb@localhost/survey\n",
      "1 rows affected.\n"
     ]
    },
    {
     "data": {
      "text/html": [
       "<table>\n",
       "    <tr>\n",
       "        <th>score</th>\n",
       "    </tr>\n",
       "    <tr>\n",
       "        <td>29</td>\n",
       "    </tr>\n",
       "</table>"
      ],
      "text/plain": [
       "[(29,)]"
      ]
     },
     "execution_count": 171,
     "metadata": {},
     "output_type": "execute_result"
    }
   ],
   "source": [
    "%%sql\n",
    "SELECT score('%Educational Institutions %')\n",
    "From q1\n",
    "limit 1;"
   ]
  },
  {
   "cell_type": "code",
   "execution_count": 172,
   "metadata": {},
   "outputs": [
    {
     "name": "stdout",
     "output_type": "stream",
     "text": [
      " * postgres://isdb@localhost/survey\n",
      "1 rows affected.\n"
     ]
    },
    {
     "data": {
      "text/html": [
       "<table>\n",
       "    <tr>\n",
       "        <th>score</th>\n",
       "    </tr>\n",
       "    <tr>\n",
       "        <td>43</td>\n",
       "    </tr>\n",
       "</table>"
      ],
      "text/plain": [
       "[(43,)]"
      ]
     },
     "execution_count": 172,
     "metadata": {},
     "output_type": "execute_result"
    }
   ],
   "source": [
    "%%sql\n",
    "SELECT score('%Social Media Platform%')\n",
    "From q1\n",
    "limit 1;"
   ]
  },
  {
   "cell_type": "code",
   "execution_count": 173,
   "metadata": {},
   "outputs": [
    {
     "name": "stdout",
     "output_type": "stream",
     "text": [
      " * postgres://isdb@localhost/survey\n",
      "1 rows affected.\n"
     ]
    },
    {
     "data": {
      "text/html": [
       "<table>\n",
       "    <tr>\n",
       "        <th>score</th>\n",
       "    </tr>\n",
       "    <tr>\n",
       "        <td>32</td>\n",
       "    </tr>\n",
       "</table>"
      ],
      "text/plain": [
       "[(32,)]"
      ]
     },
     "execution_count": 173,
     "metadata": {},
     "output_type": "execute_result"
    }
   ],
   "source": [
    "%%sql\n",
    "SELECT score('%News%')\n",
    "From q1\n",
    "limit 1;"
   ]
  },
  {
   "cell_type": "code",
   "execution_count": 174,
   "metadata": {},
   "outputs": [
    {
     "name": "stdout",
     "output_type": "stream",
     "text": [
      " * postgres://isdb@localhost/survey\n",
      "1 rows affected.\n"
     ]
    },
    {
     "data": {
      "text/html": [
       "<table>\n",
       "    <tr>\n",
       "        <th>score</th>\n",
       "    </tr>\n",
       "    <tr>\n",
       "        <td>29</td>\n",
       "    </tr>\n",
       "</table>"
      ],
      "text/plain": [
       "[(29,)]"
      ]
     },
     "execution_count": 174,
     "metadata": {},
     "output_type": "execute_result"
    }
   ],
   "source": [
    "%%sql\n",
    "SELECT score('%Subscription-Based%')\n",
    "From q1\n",
    "limit 1;"
   ]
  },
  {
   "cell_type": "code",
   "execution_count": 175,
   "metadata": {},
   "outputs": [
    {
     "name": "stdout",
     "output_type": "stream",
     "text": [
      " * postgres://isdb@localhost/survey\n",
      "1 rows affected.\n"
     ]
    },
    {
     "data": {
      "text/html": [
       "<table>\n",
       "    <tr>\n",
       "        <th>score</th>\n",
       "    </tr>\n",
       "    <tr>\n",
       "        <td>36</td>\n",
       "    </tr>\n",
       "</table>"
      ],
      "text/plain": [
       "[(36,)]"
      ]
     },
     "execution_count": 175,
     "metadata": {},
     "output_type": "execute_result"
    }
   ],
   "source": [
    "%%sql\n",
    "SELECT score('%Adult Websites%')\n",
    "From q1\n",
    "limit 1;"
   ]
  },
  {
   "cell_type": "code",
   "execution_count": 176,
   "metadata": {
    "scrolled": true
   },
   "outputs": [
    {
     "name": "stdout",
     "output_type": "stream",
     "text": [
      " * postgres://isdb@localhost/survey\n",
      "1 rows affected.\n"
     ]
    },
    {
     "data": {
      "text/html": [
       "<table>\n",
       "    <tr>\n",
       "        <th>score</th>\n",
       "    </tr>\n",
       "    <tr>\n",
       "        <td>34</td>\n",
       "    </tr>\n",
       "</table>"
      ],
      "text/plain": [
       "[(34,)]"
      ]
     },
     "execution_count": 176,
     "metadata": {},
     "output_type": "execute_result"
    }
   ],
   "source": [
    "%%sql\n",
    "SELECT score('%health%')\n",
    "From q1\n",
    "limit 1;"
   ]
  },
  {
   "cell_type": "code",
   "execution_count": 177,
   "metadata": {},
   "outputs": [
    {
     "name": "stdout",
     "output_type": "stream",
     "text": [
      " * postgres://isdb@localhost/survey\n",
      "1 rows affected.\n"
     ]
    },
    {
     "data": {
      "text/html": [
       "<table>\n",
       "    <tr>\n",
       "        <th>score</th>\n",
       "    </tr>\n",
       "    <tr>\n",
       "        <td>36</td>\n",
       "    </tr>\n",
       "</table>"
      ],
      "text/plain": [
       "[(36,)]"
      ]
     },
     "execution_count": 177,
     "metadata": {},
     "output_type": "execute_result"
    }
   ],
   "source": [
    "%%sql\n",
    "SELECT score('%political%')\n",
    "From q1\n",
    "limit 1;"
   ]
  },
  {
   "cell_type": "code",
   "execution_count": 178,
   "metadata": {},
   "outputs": [
    {
     "name": "stdout",
     "output_type": "stream",
     "text": [
      " * postgres://isdb@localhost/survey\n",
      "1 rows affected.\n"
     ]
    },
    {
     "data": {
      "text/html": [
       "<table>\n",
       "    <tr>\n",
       "        <th>score</th>\n",
       "    </tr>\n",
       "    <tr>\n",
       "        <td>29</td>\n",
       "    </tr>\n",
       "</table>"
      ],
      "text/plain": [
       "[(29,)]"
      ]
     },
     "execution_count": 178,
     "metadata": {},
     "output_type": "execute_result"
    }
   ],
   "source": [
    "%%sql\n",
    "SELECT score('%other%')\n",
    "From q1\n",
    "limit 1;"
   ]
  },
  {
   "cell_type": "code",
   "execution_count": 85,
   "metadata": {},
   "outputs": [
    {
     "name": "stdout",
     "output_type": "stream",
     "text": [
      " * postgres://isdb@localhost/survey\n",
      "(psycopg2.ProgrammingError) syntax error at or near \"%\"\n",
      "LINE 1: %sql\n",
      "        ^\n",
      " [SQL: \"%%sql\\nCREATE OR REPLACE FUNCTION score (t text) RETURNS integer as \\n$$\\n    BEGIN\\n        RETURN  ((select count(*)  from q1 where (q1c ILIKE t) or q1c = 'All of the above' ) + \\n        (select count(*)  from q3 where q3c ILIKE t or q3c = 'All of the above')+\\n        (select count(*)  from q4 where q4c ILIKE t or q4c = 'All of the above' )+\\n        (select count(*)  from q5 where q5c ILIKE t or q5c = 'All of the above' )+\\n        (select count(*)  from q6 where q6c ILIKE t or q6c = 'All of the above' )+\\n        (select count(*)  from q7 where q7c ILIKE t or q7c = 'All of the above' )+\\n        (select count(*)  from q8 where q8c ILIKE t or q8c = 'All of the above' ))/(8.0*11) *100;\\n    END;\\n$$LANGUAGE plpgsql;\"] (Background on this error at: http://sqlalche.me/e/f405)\n"
     ]
    }
   ],
   "source": [
    "%%sql\n",
    "\n",
    "CREATE OR REPLACE FUNCTION score (t text) RETURNS integer as \n",
    "$$\n",
    "    BEGIN\n",
    "        RETURN  ((select count(*)  from q1 where (q1c ILIKE t) or q1c = 'All of the above' ) + \n",
    "        (select count(*)  from q3 where q3c ILIKE t or q3c = 'All of the above')+\n",
    "        (select count(*)  from q4 where q4c ILIKE t or q4c = 'All of the above' )+\n",
    "        (select count(*)  from q5 where q5c ILIKE t or q5c = 'All of the above' )+\n",
    "        (select count(*)  from q6 where q6c ILIKE t or q6c = 'All of the above' )+\n",
    "        (select count(*)  from q7 where q7c ILIKE t or q7c = 'All of the above' )+\n",
    "        (select count(*)  from q8 where q8c ILIKE t or q8c = 'All of the above' ))/(8.0*11) *100;\n",
    "    END;\n",
    "$$LANGUAGE plpgsql;"
   ]
  },
  {
   "cell_type": "code",
   "execution_count": 158,
   "metadata": {},
   "outputs": [
    {
     "name": "stdout",
     "output_type": "stream",
     "text": [
      " * postgres://isdb@localhost/survey\n",
      "1 rows affected.\n"
     ]
    },
    {
     "data": {
      "text/html": [
       "<table>\n",
       "    <tr>\n",
       "        <th>count</th>\n",
       "    </tr>\n",
       "    <tr>\n",
       "        <td>7</td>\n",
       "    </tr>\n",
       "</table>"
      ],
      "text/plain": [
       "[(7,)]"
      ]
     },
     "execution_count": 158,
     "metadata": {},
     "output_type": "execute_result"
    }
   ],
   "source": [
    "%%sql \n",
    "select count(*) From q1M;"
   ]
  },
  {
   "cell_type": "code",
   "execution_count": null,
   "metadata": {},
   "outputs": [],
   "source": []
  }
 ],
 "metadata": {
  "kernelspec": {
   "display_name": "Python 3",
   "language": "python",
   "name": "python3"
  },
  "language_info": {
   "codemirror_mode": {
    "name": "ipython",
    "version": 3
   },
   "file_extension": ".py",
   "mimetype": "text/x-python",
   "name": "python",
   "nbconvert_exporter": "python",
   "pygments_lexer": "ipython3",
   "version": "3.6.6"
  }
 },
 "nbformat": 4,
 "nbformat_minor": 2
}
